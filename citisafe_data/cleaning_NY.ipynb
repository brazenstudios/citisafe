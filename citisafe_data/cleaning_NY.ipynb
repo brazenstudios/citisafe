{
  "nbformat": 4,
  "nbformat_minor": 0,
  "metadata": {
    "colab": {
      "name": "Untitled13.ipynb",
      "provenance": []
    },
    "kernelspec": {
      "name": "python3",
      "display_name": "Python 3"
    },
    "language_info": {
      "name": "python"
    }
  },
  "cells": [
    {
      "cell_type": "code",
      "metadata": {
        "colab": {
          "base_uri": "https://localhost:8080/"
        },
        "id": "z3OGE5TjztbZ",
        "outputId": "4b9ba7d8-0c36-4989-f683-dcc8fce8a399"
      },
      "source": [
        "from google.colab import drive\n",
        "drive.mount('/content/drive', force_remount=True)"
      ],
      "execution_count": 1,
      "outputs": [
        {
          "output_type": "stream",
          "text": [
            "Mounted at /content/drive\n"
          ],
          "name": "stdout"
        }
      ]
    },
    {
      "cell_type": "code",
      "metadata": {
        "id": "zRW9ofb6zyVM"
      },
      "source": [
        "import numpy as np\n",
        "import pandas as pd"
      ],
      "execution_count": 2,
      "outputs": []
    },
    {
      "cell_type": "code",
      "metadata": {
        "id": "Q4Mp1pGC0Cx7"
      },
      "source": [
        "df= pd.read_csv('/content/drive/MyDrive/NYPD_Complaint_Data_Current__Year_To_Date_.csv')"
      ],
      "execution_count": 3,
      "outputs": []
    },
    {
      "cell_type": "code",
      "metadata": {
        "colab": {
          "base_uri": "https://localhost:8080/"
        },
        "id": "Vt1bQZHZ0JZY",
        "outputId": "95aa3d7c-9c85-4d13-9b67-f49d7916d1c7"
      },
      "source": [
        "nRow, nCol = df.shape\n",
        "print(f'There are {nRow} rows and {nCol} columns')"
      ],
      "execution_count": 4,
      "outputs": [
        {
          "output_type": "stream",
          "text": [
            "There are 96734 rows and 36 columns\n"
          ],
          "name": "stdout"
        }
      ]
    },
    {
      "cell_type": "code",
      "metadata": {
        "colab": {
          "base_uri": "https://localhost:8080/"
        },
        "id": "1uIGbrAO0M8G",
        "outputId": "ba5b9820-ce33-4fdd-8b0f-2389172ef611"
      },
      "source": [
        "df.info()"
      ],
      "execution_count": 5,
      "outputs": [
        {
          "output_type": "stream",
          "text": [
            "<class 'pandas.core.frame.DataFrame'>\n",
            "RangeIndex: 96734 entries, 0 to 96733\n",
            "Data columns (total 36 columns):\n",
            " #   Column                    Non-Null Count  Dtype  \n",
            "---  ------                    --------------  -----  \n",
            " 0   CMPLNT_NUM                96734 non-null  int64  \n",
            " 1   ADDR_PCT_CD               96734 non-null  int64  \n",
            " 2   BORO_NM                   96632 non-null  object \n",
            " 3   CMPLNT_FR_DT              96734 non-null  object \n",
            " 4   CMPLNT_FR_TM              96734 non-null  object \n",
            " 5   CMPLNT_TO_DT              88039 non-null  object \n",
            " 6   CMPLNT_TO_TM              88067 non-null  object \n",
            " 7   CRM_ATPT_CPTD_CD          96682 non-null  object \n",
            " 8   HADEVELOPT                395 non-null    object \n",
            " 9   HOUSING_PSA               7868 non-null   float64\n",
            " 10  JURISDICTION_CODE         96646 non-null  float64\n",
            " 11  JURIS_DESC                96734 non-null  object \n",
            " 12  KY_CD                     96734 non-null  int64  \n",
            " 13  LAW_CAT_CD                96734 non-null  object \n",
            " 14  LOC_OF_OCCUR_DESC         81791 non-null  object \n",
            " 15  OFNS_DESC                 96731 non-null  object \n",
            " 16  PARKS_NM                  352 non-null    object \n",
            " 17  PATROL_BORO               96646 non-null  object \n",
            " 18  PD_CD                     96646 non-null  float64\n",
            " 19  PD_DESC                   96646 non-null  object \n",
            " 20  PREM_TYP_DESC             96462 non-null  object \n",
            " 21  RPT_DT                    96734 non-null  object \n",
            " 22  STATION_NAME              1939 non-null   object \n",
            " 23  SUSP_AGE_GROUP            76359 non-null  object \n",
            " 24  SUSP_RACE                 76359 non-null  object \n",
            " 25  SUSP_SEX                  76359 non-null  object \n",
            " 26  TRANSIT_DISTRICT          1939 non-null   float64\n",
            " 27  VIC_AGE_GROUP             96734 non-null  object \n",
            " 28  VIC_RACE                  96731 non-null  object \n",
            " 29  VIC_SEX                   96734 non-null  object \n",
            " 30  X_COORD_CD                96734 non-null  int64  \n",
            " 31  Y_COORD_CD                96734 non-null  int64  \n",
            " 32  Latitude                  96734 non-null  float64\n",
            " 33  Longitude                 96734 non-null  float64\n",
            " 34  Lat_Lon                   96734 non-null  object \n",
            " 35  New Georeferenced Column  96734 non-null  object \n",
            "dtypes: float64(6), int64(5), object(25)\n",
            "memory usage: 26.6+ MB\n"
          ],
          "name": "stdout"
        }
      ]
    },
    {
      "cell_type": "code",
      "metadata": {
        "colab": {
          "base_uri": "https://localhost:8080/"
        },
        "id": "BvAdP27G0Otz",
        "outputId": "a083abd0-4021-4f0f-b805-ba43627e001a"
      },
      "source": [
        "df.count()"
      ],
      "execution_count": 6,
      "outputs": [
        {
          "output_type": "execute_result",
          "data": {
            "text/plain": [
              "CMPLNT_NUM                  96734\n",
              "ADDR_PCT_CD                 96734\n",
              "BORO_NM                     96632\n",
              "CMPLNT_FR_DT                96734\n",
              "CMPLNT_FR_TM                96734\n",
              "CMPLNT_TO_DT                88039\n",
              "CMPLNT_TO_TM                88067\n",
              "CRM_ATPT_CPTD_CD            96682\n",
              "HADEVELOPT                    395\n",
              "HOUSING_PSA                  7868\n",
              "JURISDICTION_CODE           96646\n",
              "JURIS_DESC                  96734\n",
              "KY_CD                       96734\n",
              "LAW_CAT_CD                  96734\n",
              "LOC_OF_OCCUR_DESC           81791\n",
              "OFNS_DESC                   96731\n",
              "PARKS_NM                      352\n",
              "PATROL_BORO                 96646\n",
              "PD_CD                       96646\n",
              "PD_DESC                     96646\n",
              "PREM_TYP_DESC               96462\n",
              "RPT_DT                      96734\n",
              "STATION_NAME                 1939\n",
              "SUSP_AGE_GROUP              76359\n",
              "SUSP_RACE                   76359\n",
              "SUSP_SEX                    76359\n",
              "TRANSIT_DISTRICT             1939\n",
              "VIC_AGE_GROUP               96734\n",
              "VIC_RACE                    96731\n",
              "VIC_SEX                     96734\n",
              "X_COORD_CD                  96734\n",
              "Y_COORD_CD                  96734\n",
              "Latitude                    96734\n",
              "Longitude                   96734\n",
              "Lat_Lon                     96734\n",
              "New Georeferenced Column    96734\n",
              "dtype: int64"
            ]
          },
          "metadata": {
            "tags": []
          },
          "execution_count": 6
        }
      ]
    },
    {
      "cell_type": "code",
      "metadata": {
        "id": "HZl8QMD60Sph"
      },
      "source": [
        "columns_remove = ['TRANSIT_DISTRICT','STATION_NAME','RPT_DT','PARKS_NM','HADEVELOPT','HADEVELOPT','CRM_ATPT_CPTD_CD','ADDR_PCT_CD','CMPLNT_NUM','CMPLNT_TO_DT', 'CMPLNT_TO_TM', 'HADEVELOPT', 'HOUSING_PSA', 'LOC_OF_OCCUR_DESC', 'PARKS_NM', 'RPT_DT', 'STATION_NAME', 'TRANSIT_DISTRICT', 'X_COORD_CD','Y_COORD_CD', 'Lat_Lon']\n",
        "df = df.drop(columns_remove, axis=1)"
      ],
      "execution_count": 7,
      "outputs": []
    },
    {
      "cell_type": "code",
      "metadata": {
        "colab": {
          "base_uri": "https://localhost:8080/"
        },
        "id": "Phs9D3Nl0Wax",
        "outputId": "a700f82e-2fbc-4ea5-b17b-b5630c3d681c"
      },
      "source": [
        "print(df)"
      ],
      "execution_count": 8,
      "outputs": [
        {
          "output_type": "stream",
          "text": [
            "         BORO_NM  ...                       New Georeferenced Column\n",
            "0       BROOKLYN  ...   POINT (-73.98633121699999 40.69105856700002)\n",
            "1            NaN  ...   POINT (-73.98713051799997 40.71608268700004)\n",
            "2            NaN  ...   POINT (-73.87513706799997 40.66818803900002)\n",
            "3      MANHATTAN  ...   POINT (-73.98928217599996 40.75043076800005)\n",
            "4         QUEENS  ...   POINT (-73.86537333399998 40.74960053300003)\n",
            "...          ...  ...                                            ...\n",
            "96729   BROOKLYN  ...  POINT (-73.97889574699997 40.668146816000046)\n",
            "96730      BRONX  ...        POINT (-73.859568127 40.89251396600008)\n",
            "96731      BRONX  ...   POINT (-73.90846796099999 40.81944420600007)\n",
            "96732  MANHATTAN  ...   POINT (-73.99133946299997 40.75002197300005)\n",
            "96733   BROOKLYN  ...   POINT (-73.95291287199996 40.71407010200004)\n",
            "\n",
            "[96734 rows x 21 columns]\n"
          ],
          "name": "stdout"
        }
      ]
    },
    {
      "cell_type": "code",
      "metadata": {
        "id": "FN41C_8P0cAl"
      },
      "source": [
        "df.dropna(subset=['CMPLNT_FR_DT'], inplace=True)\n",
        "df.dropna(subset=['CMPLNT_FR_TM'], inplace=True)"
      ],
      "execution_count": 9,
      "outputs": []
    },
    {
      "cell_type": "code",
      "metadata": {
        "id": "2hUI0_KG0dbr"
      },
      "source": [
        "df.replace('UNKNOWN', np.NaN, inplace=True)\n",
        "df.replace('E', np.NaN, inplace=True)\n",
        "df.replace('C', np.NaN, inplace=True)\n",
        "\n",
        "df.replace('D', np.NaN, inplace=True)\n",
        "df.replace('U', np.NaN, inplace=True)"
      ],
      "execution_count": 10,
      "outputs": []
    },
    {
      "cell_type": "code",
      "metadata": {
        "colab": {
          "base_uri": "https://localhost:8080/"
        },
        "id": "DnVVsFRh0hUv",
        "outputId": "22519f03-a4e9-4763-99c4-191b0da3f244"
      },
      "source": [
        "print('Number of rows before removing rows with missing values: ' + str(df.shape[0]))\n",
        "df.dropna(axis=0, inplace=True)\n",
        "print('Number of rows after removing rows with missing values: ' + str(df.shape[0]))"
      ],
      "execution_count": 11,
      "outputs": [
        {
          "output_type": "stream",
          "text": [
            "Number of rows before removing rows with missing values: 96734\n",
            "Number of rows after removing rows with missing values: 28270\n"
          ],
          "name": "stdout"
        }
      ]
    },
    {
      "cell_type": "code",
      "metadata": {
        "id": "D-u7GcN70lEU"
      },
      "source": [
        "df['CMPLNT_FR_YEAR'] = df['CMPLNT_FR_DT'].map(lambda x: int(str(x).split('/')[2]))\n",
        "df['CMPLNT_FR_MONTH'] = df['CMPLNT_FR_DT'].map(lambda x: int(x.split('/')[0]))\n",
        "df['CMPLNT_FR_DAY'] = df['CMPLNT_FR_DT'].map(lambda x: int(x.split('/')[1]))"
      ],
      "execution_count": 12,
      "outputs": []
    },
    {
      "cell_type": "code",
      "metadata": {
        "colab": {
          "base_uri": "https://localhost:8080/"
        },
        "id": "zMfKdRT50ooI",
        "outputId": "192879bd-3ab0-4084-eb11-704f728d9683"
      },
      "source": [
        "pd.unique(df.CMPLNT_FR_YEAR)"
      ],
      "execution_count": 13,
      "outputs": [
        {
          "output_type": "execute_result",
          "data": {
            "text/plain": [
              "array([2021, 2020, 2019, 2009, 2016, 2018, 2014, 2008, 2012, 2017, 2004,\n",
              "       2011, 2005, 2007, 1981, 2010, 2015, 1997, 1971, 2013, 2001, 2003,\n",
              "       2000, 1988, 2002, 1993, 1991, 1999, 2006, 1972])"
            ]
          },
          "metadata": {
            "tags": []
          },
          "execution_count": 13
        }
      ]
    },
    {
      "cell_type": "code",
      "metadata": {
        "id": "TwbcwSJ80t2Q"
      },
      "source": [
        "df = df[df['CMPLNT_FR_YEAR'] > 2005]"
      ],
      "execution_count": 14,
      "outputs": []
    },
    {
      "cell_type": "code",
      "metadata": {
        "colab": {
          "base_uri": "https://localhost:8080/"
        },
        "id": "0oiZdaIU0vYr",
        "outputId": "5a716c3c-b343-4643-86d5-aae9aeeef9aa"
      },
      "source": [
        "pd.unique(df.CMPLNT_FR_YEAR)"
      ],
      "execution_count": 15,
      "outputs": [
        {
          "output_type": "execute_result",
          "data": {
            "text/plain": [
              "array([2021, 2020, 2019, 2009, 2016, 2018, 2014, 2008, 2012, 2017, 2011,\n",
              "       2007, 2010, 2015, 2013, 2006])"
            ]
          },
          "metadata": {
            "tags": []
          },
          "execution_count": 15
        }
      ]
    },
    {
      "cell_type": "code",
      "metadata": {
        "colab": {
          "base_uri": "https://localhost:8080/",
          "height": 874
        },
        "id": "ayOTRyZL0zOb",
        "outputId": "2ff4f1f5-238f-4f0a-d651-a9acd2dfc394"
      },
      "source": [
        "df"
      ],
      "execution_count": 16,
      "outputs": [
        {
          "output_type": "execute_result",
          "data": {
            "text/html": [
              "<div>\n",
              "<style scoped>\n",
              "    .dataframe tbody tr th:only-of-type {\n",
              "        vertical-align: middle;\n",
              "    }\n",
              "\n",
              "    .dataframe tbody tr th {\n",
              "        vertical-align: top;\n",
              "    }\n",
              "\n",
              "    .dataframe thead th {\n",
              "        text-align: right;\n",
              "    }\n",
              "</style>\n",
              "<table border=\"1\" class=\"dataframe\">\n",
              "  <thead>\n",
              "    <tr style=\"text-align: right;\">\n",
              "      <th></th>\n",
              "      <th>BORO_NM</th>\n",
              "      <th>CMPLNT_FR_DT</th>\n",
              "      <th>CMPLNT_FR_TM</th>\n",
              "      <th>JURISDICTION_CODE</th>\n",
              "      <th>JURIS_DESC</th>\n",
              "      <th>KY_CD</th>\n",
              "      <th>LAW_CAT_CD</th>\n",
              "      <th>OFNS_DESC</th>\n",
              "      <th>PATROL_BORO</th>\n",
              "      <th>PD_CD</th>\n",
              "      <th>PD_DESC</th>\n",
              "      <th>PREM_TYP_DESC</th>\n",
              "      <th>SUSP_AGE_GROUP</th>\n",
              "      <th>SUSP_RACE</th>\n",
              "      <th>SUSP_SEX</th>\n",
              "      <th>VIC_AGE_GROUP</th>\n",
              "      <th>VIC_RACE</th>\n",
              "      <th>VIC_SEX</th>\n",
              "      <th>Latitude</th>\n",
              "      <th>Longitude</th>\n",
              "      <th>New Georeferenced Column</th>\n",
              "      <th>CMPLNT_FR_YEAR</th>\n",
              "      <th>CMPLNT_FR_MONTH</th>\n",
              "      <th>CMPLNT_FR_DAY</th>\n",
              "    </tr>\n",
              "  </thead>\n",
              "  <tbody>\n",
              "    <tr>\n",
              "      <th>8</th>\n",
              "      <td>BRONX</td>\n",
              "      <td>03/22/2021</td>\n",
              "      <td>17:45:00</td>\n",
              "      <td>0.0</td>\n",
              "      <td>N.Y. POLICE DEPT</td>\n",
              "      <td>107</td>\n",
              "      <td>FELONY</td>\n",
              "      <td>BURGLARY</td>\n",
              "      <td>PATROL BORO BRONX</td>\n",
              "      <td>221.0</td>\n",
              "      <td>BURGLARY,RESIDENCE,DAY</td>\n",
              "      <td>RESIDENCE - APT. HOUSE</td>\n",
              "      <td>25-44</td>\n",
              "      <td>BLACK</td>\n",
              "      <td>M</td>\n",
              "      <td>45-64</td>\n",
              "      <td>BLACK</td>\n",
              "      <td>F</td>\n",
              "      <td>40.824941</td>\n",
              "      <td>-73.878322</td>\n",
              "      <td>POINT (-73.87832247299998 40.82494145800007)</td>\n",
              "      <td>2021</td>\n",
              "      <td>3</td>\n",
              "      <td>22</td>\n",
              "    </tr>\n",
              "    <tr>\n",
              "      <th>25</th>\n",
              "      <td>QUEENS</td>\n",
              "      <td>02/28/2021</td>\n",
              "      <td>15:00:00</td>\n",
              "      <td>0.0</td>\n",
              "      <td>N.Y. POLICE DEPT</td>\n",
              "      <td>361</td>\n",
              "      <td>MISDEMEANOR</td>\n",
              "      <td>OFF. AGNST PUB ORD SENSBLTY &amp;</td>\n",
              "      <td>PATROL BORO QUEENS SOUTH</td>\n",
              "      <td>661.0</td>\n",
              "      <td>LEWDNESS,PUBLIC</td>\n",
              "      <td>STREET</td>\n",
              "      <td>25-44</td>\n",
              "      <td>ASIAN / PACIFIC ISLANDER</td>\n",
              "      <td>M</td>\n",
              "      <td>45-64</td>\n",
              "      <td>WHITE</td>\n",
              "      <td>F</td>\n",
              "      <td>40.717764</td>\n",
              "      <td>-73.758138</td>\n",
              "      <td>POINT (-73.75813846299998 40.71776441700007)</td>\n",
              "      <td>2021</td>\n",
              "      <td>2</td>\n",
              "      <td>28</td>\n",
              "    </tr>\n",
              "    <tr>\n",
              "      <th>35</th>\n",
              "      <td>BRONX</td>\n",
              "      <td>02/16/2021</td>\n",
              "      <td>21:19:00</td>\n",
              "      <td>0.0</td>\n",
              "      <td>N.Y. POLICE DEPT</td>\n",
              "      <td>361</td>\n",
              "      <td>MISDEMEANOR</td>\n",
              "      <td>OFF. AGNST PUB ORD SENSBLTY &amp;</td>\n",
              "      <td>PATROL BORO BRONX</td>\n",
              "      <td>639.0</td>\n",
              "      <td>AGGRAVATED HARASSMENT 2</td>\n",
              "      <td>RESIDENCE - APT. HOUSE</td>\n",
              "      <td>65+</td>\n",
              "      <td>WHITE</td>\n",
              "      <td>M</td>\n",
              "      <td>65+</td>\n",
              "      <td>WHITE</td>\n",
              "      <td>M</td>\n",
              "      <td>40.850829</td>\n",
              "      <td>-73.835680</td>\n",
              "      <td>POINT (-73.83568025399995 40.85082888400007)</td>\n",
              "      <td>2021</td>\n",
              "      <td>2</td>\n",
              "      <td>16</td>\n",
              "    </tr>\n",
              "    <tr>\n",
              "      <th>38</th>\n",
              "      <td>MANHATTAN</td>\n",
              "      <td>02/20/2021</td>\n",
              "      <td>13:30:00</td>\n",
              "      <td>0.0</td>\n",
              "      <td>N.Y. POLICE DEPT</td>\n",
              "      <td>344</td>\n",
              "      <td>MISDEMEANOR</td>\n",
              "      <td>ASSAULT 3 &amp; RELATED OFFENSES</td>\n",
              "      <td>PATROL BORO MAN NORTH</td>\n",
              "      <td>101.0</td>\n",
              "      <td>ASSAULT 3</td>\n",
              "      <td>STREET</td>\n",
              "      <td>45-64</td>\n",
              "      <td>BLACK</td>\n",
              "      <td>M</td>\n",
              "      <td>45-64</td>\n",
              "      <td>BLACK</td>\n",
              "      <td>M</td>\n",
              "      <td>40.808374</td>\n",
              "      <td>-73.946886</td>\n",
              "      <td>POINT (-73.94688582299993 40.80837413600005)</td>\n",
              "      <td>2021</td>\n",
              "      <td>2</td>\n",
              "      <td>20</td>\n",
              "    </tr>\n",
              "    <tr>\n",
              "      <th>42</th>\n",
              "      <td>BRONX</td>\n",
              "      <td>02/12/2021</td>\n",
              "      <td>04:49:00</td>\n",
              "      <td>0.0</td>\n",
              "      <td>N.Y. POLICE DEPT</td>\n",
              "      <td>341</td>\n",
              "      <td>MISDEMEANOR</td>\n",
              "      <td>PETIT LARCENY</td>\n",
              "      <td>PATROL BORO BRONX</td>\n",
              "      <td>321.0</td>\n",
              "      <td>LARCENY,PETIT FROM AUTO</td>\n",
              "      <td>STREET</td>\n",
              "      <td>45-64</td>\n",
              "      <td>BLACK</td>\n",
              "      <td>M</td>\n",
              "      <td>45-64</td>\n",
              "      <td>BLACK</td>\n",
              "      <td>M</td>\n",
              "      <td>40.835925</td>\n",
              "      <td>-73.921831</td>\n",
              "      <td>POINT (-73.92183088599995 40.83592508100002)</td>\n",
              "      <td>2021</td>\n",
              "      <td>2</td>\n",
              "      <td>12</td>\n",
              "    </tr>\n",
              "    <tr>\n",
              "      <th>...</th>\n",
              "      <td>...</td>\n",
              "      <td>...</td>\n",
              "      <td>...</td>\n",
              "      <td>...</td>\n",
              "      <td>...</td>\n",
              "      <td>...</td>\n",
              "      <td>...</td>\n",
              "      <td>...</td>\n",
              "      <td>...</td>\n",
              "      <td>...</td>\n",
              "      <td>...</td>\n",
              "      <td>...</td>\n",
              "      <td>...</td>\n",
              "      <td>...</td>\n",
              "      <td>...</td>\n",
              "      <td>...</td>\n",
              "      <td>...</td>\n",
              "      <td>...</td>\n",
              "      <td>...</td>\n",
              "      <td>...</td>\n",
              "      <td>...</td>\n",
              "      <td>...</td>\n",
              "      <td>...</td>\n",
              "      <td>...</td>\n",
              "    </tr>\n",
              "    <tr>\n",
              "      <th>96715</th>\n",
              "      <td>QUEENS</td>\n",
              "      <td>01/01/2021</td>\n",
              "      <td>05:30:00</td>\n",
              "      <td>0.0</td>\n",
              "      <td>N.Y. POLICE DEPT</td>\n",
              "      <td>578</td>\n",
              "      <td>VIOLATION</td>\n",
              "      <td>HARRASSMENT 2</td>\n",
              "      <td>PATROL BORO QUEENS NORTH</td>\n",
              "      <td>637.0</td>\n",
              "      <td>HARASSMENT,SUBD 1,CIVILIAN</td>\n",
              "      <td>RESIDENCE-HOUSE</td>\n",
              "      <td>25-44</td>\n",
              "      <td>WHITE HISPANIC</td>\n",
              "      <td>F</td>\n",
              "      <td>25-44</td>\n",
              "      <td>WHITE HISPANIC</td>\n",
              "      <td>M</td>\n",
              "      <td>40.752395</td>\n",
              "      <td>-73.867735</td>\n",
              "      <td>POINT (-73.86773538399994 40.752394681000055)</td>\n",
              "      <td>2021</td>\n",
              "      <td>1</td>\n",
              "      <td>1</td>\n",
              "    </tr>\n",
              "    <tr>\n",
              "      <th>96724</th>\n",
              "      <td>QUEENS</td>\n",
              "      <td>01/04/2021</td>\n",
              "      <td>17:20:00</td>\n",
              "      <td>0.0</td>\n",
              "      <td>N.Y. POLICE DEPT</td>\n",
              "      <td>107</td>\n",
              "      <td>FELONY</td>\n",
              "      <td>BURGLARY</td>\n",
              "      <td>PATROL BORO QUEENS SOUTH</td>\n",
              "      <td>221.0</td>\n",
              "      <td>BURGLARY,RESIDENCE,DAY</td>\n",
              "      <td>RESIDENCE - APT. HOUSE</td>\n",
              "      <td>45-64</td>\n",
              "      <td>WHITE HISPANIC</td>\n",
              "      <td>M</td>\n",
              "      <td>18-24</td>\n",
              "      <td>WHITE HISPANIC</td>\n",
              "      <td>M</td>\n",
              "      <td>40.598256</td>\n",
              "      <td>-73.755230</td>\n",
              "      <td>POINT (-73.75522965799998 40.59825555300005)</td>\n",
              "      <td>2021</td>\n",
              "      <td>1</td>\n",
              "      <td>4</td>\n",
              "    </tr>\n",
              "    <tr>\n",
              "      <th>96728</th>\n",
              "      <td>BROOKLYN</td>\n",
              "      <td>01/05/2021</td>\n",
              "      <td>07:20:00</td>\n",
              "      <td>0.0</td>\n",
              "      <td>N.Y. POLICE DEPT</td>\n",
              "      <td>344</td>\n",
              "      <td>MISDEMEANOR</td>\n",
              "      <td>ASSAULT 3 &amp; RELATED OFFENSES</td>\n",
              "      <td>PATROL BORO BKLYN SOUTH</td>\n",
              "      <td>113.0</td>\n",
              "      <td>MENACING,UNCLASSIFIED</td>\n",
              "      <td>RESIDENCE-HOUSE</td>\n",
              "      <td>25-44</td>\n",
              "      <td>BLACK</td>\n",
              "      <td>M</td>\n",
              "      <td>45-64</td>\n",
              "      <td>BLACK</td>\n",
              "      <td>F</td>\n",
              "      <td>40.615744</td>\n",
              "      <td>-73.915580</td>\n",
              "      <td>POINT (-73.91558008099996 40.61574449600005)</td>\n",
              "      <td>2021</td>\n",
              "      <td>1</td>\n",
              "      <td>5</td>\n",
              "    </tr>\n",
              "    <tr>\n",
              "      <th>96729</th>\n",
              "      <td>BROOKLYN</td>\n",
              "      <td>01/03/2021</td>\n",
              "      <td>18:53:00</td>\n",
              "      <td>0.0</td>\n",
              "      <td>N.Y. POLICE DEPT</td>\n",
              "      <td>344</td>\n",
              "      <td>MISDEMEANOR</td>\n",
              "      <td>ASSAULT 3 &amp; RELATED OFFENSES</td>\n",
              "      <td>PATROL BORO BKLYN SOUTH</td>\n",
              "      <td>101.0</td>\n",
              "      <td>ASSAULT 3</td>\n",
              "      <td>HOSPITAL</td>\n",
              "      <td>&lt;18</td>\n",
              "      <td>BLACK</td>\n",
              "      <td>F</td>\n",
              "      <td>45-64</td>\n",
              "      <td>WHITE HISPANIC</td>\n",
              "      <td>M</td>\n",
              "      <td>40.668147</td>\n",
              "      <td>-73.978896</td>\n",
              "      <td>POINT (-73.97889574699997 40.668146816000046)</td>\n",
              "      <td>2021</td>\n",
              "      <td>1</td>\n",
              "      <td>3</td>\n",
              "    </tr>\n",
              "    <tr>\n",
              "      <th>96732</th>\n",
              "      <td>MANHATTAN</td>\n",
              "      <td>01/04/2021</td>\n",
              "      <td>14:00:00</td>\n",
              "      <td>0.0</td>\n",
              "      <td>N.Y. POLICE DEPT</td>\n",
              "      <td>344</td>\n",
              "      <td>MISDEMEANOR</td>\n",
              "      <td>ASSAULT 3 &amp; RELATED OFFENSES</td>\n",
              "      <td>PATROL BORO MAN SOUTH</td>\n",
              "      <td>101.0</td>\n",
              "      <td>ASSAULT 3</td>\n",
              "      <td>STREET</td>\n",
              "      <td>25-44</td>\n",
              "      <td>WHITE</td>\n",
              "      <td>M</td>\n",
              "      <td>45-64</td>\n",
              "      <td>BLACK</td>\n",
              "      <td>M</td>\n",
              "      <td>40.750022</td>\n",
              "      <td>-73.991339</td>\n",
              "      <td>POINT (-73.99133946299997 40.75002197300005)</td>\n",
              "      <td>2021</td>\n",
              "      <td>1</td>\n",
              "      <td>4</td>\n",
              "    </tr>\n",
              "  </tbody>\n",
              "</table>\n",
              "<p>28243 rows × 24 columns</p>\n",
              "</div>"
            ],
            "text/plain": [
              "         BORO_NM CMPLNT_FR_DT  ... CMPLNT_FR_MONTH  CMPLNT_FR_DAY\n",
              "8          BRONX   03/22/2021  ...               3             22\n",
              "25        QUEENS   02/28/2021  ...               2             28\n",
              "35         BRONX   02/16/2021  ...               2             16\n",
              "38     MANHATTAN   02/20/2021  ...               2             20\n",
              "42         BRONX   02/12/2021  ...               2             12\n",
              "...          ...          ...  ...             ...            ...\n",
              "96715     QUEENS   01/01/2021  ...               1              1\n",
              "96724     QUEENS   01/04/2021  ...               1              4\n",
              "96728   BROOKLYN   01/05/2021  ...               1              5\n",
              "96729   BROOKLYN   01/03/2021  ...               1              3\n",
              "96732  MANHATTAN   01/04/2021  ...               1              4\n",
              "\n",
              "[28243 rows x 24 columns]"
            ]
          },
          "metadata": {
            "tags": []
          },
          "execution_count": 16
        }
      ]
    },
    {
      "cell_type": "code",
      "metadata": {
        "colab": {
          "base_uri": "https://localhost:8080/"
        },
        "id": "D0eu05J103B5",
        "outputId": "e0d0120e-df23-4634-f037-d8315e94f3cb"
      },
      "source": [
        "pd.unique(df.LAW_CAT_CD)"
      ],
      "execution_count": 18,
      "outputs": [
        {
          "output_type": "execute_result",
          "data": {
            "text/plain": [
              "array(['FELONY', 'MISDEMEANOR', 'VIOLATION'], dtype=object)"
            ]
          },
          "metadata": {
            "tags": []
          },
          "execution_count": 18
        }
      ]
    },
    {
      "cell_type": "code",
      "metadata": {
        "colab": {
          "base_uri": "https://localhost:8080/"
        },
        "id": "m6vK9i8F1BJ4",
        "outputId": "1b1d4704-103a-4360-f2b8-da8cce5c2cf4"
      },
      "source": [
        "df['BORO_NM']"
      ],
      "execution_count": 19,
      "outputs": [
        {
          "output_type": "execute_result",
          "data": {
            "text/plain": [
              "8            BRONX\n",
              "25          QUEENS\n",
              "35           BRONX\n",
              "38       MANHATTAN\n",
              "42           BRONX\n",
              "           ...    \n",
              "96715       QUEENS\n",
              "96724       QUEENS\n",
              "96728     BROOKLYN\n",
              "96729     BROOKLYN\n",
              "96732    MANHATTAN\n",
              "Name: BORO_NM, Length: 28243, dtype: object"
            ]
          },
          "metadata": {
            "tags": []
          },
          "execution_count": 19
        }
      ]
    },
    {
      "cell_type": "code",
      "metadata": {
        "colab": {
          "base_uri": "https://localhost:8080/"
        },
        "id": "Dlz0Gadk1FZp",
        "outputId": "0e087470-6452-48fc-f056-78e8c0ffef3e"
      },
      "source": [
        "unique, counts = np.unique(df['VIC_RACE'], return_counts=True)\n",
        "dict(zip(unique, counts))"
      ],
      "execution_count": 20,
      "outputs": [
        {
          "output_type": "execute_result",
          "data": {
            "text/plain": [
              "{'AMERICAN INDIAN/ALASKAN NATIVE': 107,\n",
              " 'ASIAN / PACIFIC ISLANDER': 2489,\n",
              " 'BLACK': 11674,\n",
              " 'BLACK HISPANIC': 1691,\n",
              " 'WHITE': 4634,\n",
              " 'WHITE HISPANIC': 7648}"
            ]
          },
          "metadata": {
            "tags": []
          },
          "execution_count": 20
        }
      ]
    }
  ]
}